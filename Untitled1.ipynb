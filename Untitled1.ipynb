{
  "nbformat": 4,
  "nbformat_minor": 0,
  "metadata": {
    "colab": {
      "provenance": [],
      "authorship_tag": "ABX9TyMITvCS9uD34B4sOFAn2QB9",
      "include_colab_link": true
    },
    "kernelspec": {
      "name": "python3",
      "display_name": "Python 3"
    },
    "language_info": {
      "name": "python"
    }
  },
  "cells": [
    {
      "cell_type": "markdown",
      "metadata": {
        "id": "view-in-github",
        "colab_type": "text"
      },
      "source": [
        "<a href=\"https://colab.research.google.com/github/Mahera-Mahin/DL-lab/blob/main/Untitled1.ipynb\" target=\"_parent\"><img src=\"https://colab.research.google.com/assets/colab-badge.svg\" alt=\"Open In Colab\"/></a>"
      ]
    },
    {
      "cell_type": "code",
      "execution_count": 2,
      "metadata": {
        "colab": {
          "base_uri": "https://localhost:8080/"
        },
        "id": "gukKfmuW6wnZ",
        "outputId": "db389fb7-b8b2-41a5-9739-039f1313885e"
      },
      "outputs": [
        {
          "output_type": "stream",
          "name": "stdout",
          "text": [
            "5\n",
            "10\n",
            "15\n"
          ]
        }
      ],
      "source": [
        "a = int(input())\n",
        "b = int(input())\n",
        "print(a+b)"
      ]
    },
    {
      "cell_type": "code",
      "source": [
        "matrix1 = [1,2],[4,5]\n",
        "matrix2 = [6,7], [6,7]\n",
        "result = [[0 for _ in range(len(matrix1[0]))] for _ in range(len(matrix1))]\n",
        "for i in range(len(matrix1)):\n",
        "  for j in range(len(matrix1[0])):\n",
        "    result[i][j] = matrix1[i][j]+matrix2[i][j]\n",
        "    print(result)"
      ],
      "metadata": {
        "colab": {
          "base_uri": "https://localhost:8080/"
        },
        "id": "fHvOFEdJ7UJI",
        "outputId": "fd6c4168-7b34-4b8f-dbd0-19e96b03e586"
      },
      "execution_count": 7,
      "outputs": [
        {
          "output_type": "stream",
          "name": "stdout",
          "text": [
            "[[7, 0], [0, 0]]\n",
            "[[7, 9], [0, 0]]\n",
            "[[7, 9], [10, 0]]\n",
            "[[7, 9], [10, 12]]\n"
          ]
        }
      ]
    }
  ]
}